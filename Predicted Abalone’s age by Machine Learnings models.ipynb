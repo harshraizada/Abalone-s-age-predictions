{
 "cells": [
  {
   "cell_type": "markdown",
   "metadata": {},
   "source": [
    "# Predicting Abalone’s age"
   ]
  },
  {
   "cell_type": "markdown",
   "metadata": {},
   "source": [
    "# Abalone Dataset"
   ]
  },
  {
   "cell_type": "markdown",
   "metadata": {},
   "source": [
    "The dataset was obtained from UCI Machine Learning Repository. This data consist of physical measurements of abalone from which we have to predict the age.\n",
    "\n"
   ]
  },
  {
   "cell_type": "markdown",
   "metadata": {},
   "source": [
    "## Description of Data"
   ]
  },
  {
   "cell_type": "markdown",
   "metadata": {},
   "source": [
    "Predicting the age of abalone from physical measurements. The age of abalone is determined by cutting tmhe shell through the cone, staining it, and counting the number of rings through a microscope -- a boring and time-consuming task. Other measurements, which are easier to obtain, are used to predict the age.\n",
    "\n",
    "Attribute Information:\n",
    "\n",
    "There are 9 attributes in dataset.Given is the attribute name, attribute type, the measurement unit and a brief description. The number of rings is the value to predict: either as a continuous value or as a classification problem. \n",
    "\n",
    "\n",
    "Name / Data Type / Measurement Unit / Description : \n",
    "\n",
    "----------------------------- \n",
    "Sex / nominal / -- / M, F, and I (infant) \n",
    "\n",
    "Length / continuous / mm / Longest shell measurement \n",
    "\n",
    "Diameter\t/ continuous / mm / perpendicular to length \n",
    "\n",
    "Height / continuous / mm / with meat in shell \n",
    "\n",
    "Whole weight / continuous / grams / whole abalone \n",
    "\n",
    "Shucked weight / continuous\t/ grams / weight of meat \n",
    "\n",
    "Viscera weight / continuous / grams / gut weight (after bleeding) \n",
    "\n",
    "Shell weight / continuous / grams / after being dried \n",
    "\n",
    "Rings / integer / -- / +1.5 gives the age in years \n",
    "\n",
    "So for our data analysis and prediction modelling we are taking Rings as a Dependent varibale and rest of the features as a Independent variable."
   ]
  },
  {
   "cell_type": "code",
   "execution_count": 4,
   "metadata": {},
   "outputs": [],
   "source": [
    "#Default Packages \n",
    "\n",
    "import warnings\n",
    "warnings.filterwarnings('ignore')\n",
    "from IPython.core.interactiveshell import InteractiveShell\n",
    "InteractiveShell.ast_node_interactivity = \"all\"\n",
    "# Graphics in SVG format are more sharp and legible\n",
    "\n",
    "# `pairplot()` may become very slow with the SVG format\n",
    "%config InlineBackend.figure_format = 'png'"
   ]
  },
  {
   "cell_type": "code",
   "execution_count": null,
   "metadata": {},
   "outputs": [],
   "source": [
    "#Packages for preprocessing,EDA & modelling\n",
    "\n",
    "import os\n",
    "import numpy as np\n",
    "import pandas as pd\n",
    "import matplotlib.pyplot as plt\n",
    "%matplotlib inline\n",
    "import seaborn as sns\n",
    "from sklearn.cross_validation import train_test_split #to split the dataset for training and testing\n",
    "from sklearn.model_selection import cross_val_score\n",
    "from sklearn.preprocessing import StandardScaler\n",
    "from tqdm import tqdm\n",
    "from sklearn.linear_model import LinearRegression # for Linear Regression algorithm\n",
    "from sklearn.preprocessing import PolynomialFeatures # for Polynomial regression\n",
    "from sklearn.ensemble import RandomForestRegressor # for Random forest regression\n",
    "from sklearn.svm import SVR #for Support Vector Machine (SVM) regression Algorithm\n",
    "from sklearn.model_selection import GridSearchCV # for hyperparameter tuning"
   ]
  },
  {
   "cell_type": "code",
   "execution_count": 6,
   "metadata": {},
   "outputs": [],
   "source": [
    "# Setting up directory\n",
    "os.chdir(r'/Users/harsh/Desktop/Data sets')\n",
    "\n",
    "#Importing file through pandas\n",
    "abalone=pd.read_table('abalone.data',delimiter=',',header=None)\n",
    "ab=abalone.copy()"
   ]
  },
  {
   "cell_type": "code",
   "execution_count": 7,
   "metadata": {},
   "outputs": [],
   "source": [
    "#renaming the columns\n",
    "ab.columns=['Sex','Length','Diameter','Height','Wholeweight','Shuckedweight','Visceraweight','Shellweight','Rings']"
   ]
  },
  {
   "cell_type": "code",
   "execution_count": 13,
   "metadata": {
    "scrolled": true
   },
   "outputs": [
    {
     "data": {
      "text/plain": [
       "(4177, 9)"
      ]
     },
     "execution_count": 13,
     "metadata": {},
     "output_type": "execute_result"
    },
    {
     "name": "stdout",
     "output_type": "stream",
     "text": [
      "<class 'pandas.core.frame.DataFrame'>\n",
      "RangeIndex: 4177 entries, 0 to 4176\n",
      "Data columns (total 9 columns):\n",
      "Sex              4177 non-null object\n",
      "Length           4177 non-null float64\n",
      "Diameter         4177 non-null float64\n",
      "Height           4177 non-null float64\n",
      "Wholeweight      4177 non-null float64\n",
      "Shuckedweight    4177 non-null float64\n",
      "Visceraweight    4177 non-null float64\n",
      "Shellweight      4177 non-null float64\n",
      "Rings            4177 non-null int64\n",
      "dtypes: float64(7), int64(1), object(1)\n",
      "memory usage: 293.8+ KB\n"
     ]
    },
    {
     "data": {
      "text/html": [
       "<div>\n",
       "<style scoped>\n",
       "    .dataframe tbody tr th:only-of-type {\n",
       "        vertical-align: middle;\n",
       "    }\n",
       "\n",
       "    .dataframe tbody tr th {\n",
       "        vertical-align: top;\n",
       "    }\n",
       "\n",
       "    .dataframe thead th {\n",
       "        text-align: right;\n",
       "    }\n",
       "</style>\n",
       "<table border=\"1\" class=\"dataframe\">\n",
       "  <thead>\n",
       "    <tr style=\"text-align: right;\">\n",
       "      <th></th>\n",
       "      <th>0</th>\n",
       "      <th>1</th>\n",
       "      <th>2</th>\n",
       "      <th>3</th>\n",
       "      <th>4</th>\n",
       "    </tr>\n",
       "  </thead>\n",
       "  <tbody>\n",
       "    <tr>\n",
       "      <th>Sex</th>\n",
       "      <td>M</td>\n",
       "      <td>M</td>\n",
       "      <td>F</td>\n",
       "      <td>M</td>\n",
       "      <td>I</td>\n",
       "    </tr>\n",
       "    <tr>\n",
       "      <th>Length</th>\n",
       "      <td>0.455</td>\n",
       "      <td>0.35</td>\n",
       "      <td>0.53</td>\n",
       "      <td>0.44</td>\n",
       "      <td>0.33</td>\n",
       "    </tr>\n",
       "    <tr>\n",
       "      <th>Diameter</th>\n",
       "      <td>0.365</td>\n",
       "      <td>0.265</td>\n",
       "      <td>0.42</td>\n",
       "      <td>0.365</td>\n",
       "      <td>0.255</td>\n",
       "    </tr>\n",
       "    <tr>\n",
       "      <th>Height</th>\n",
       "      <td>0.095</td>\n",
       "      <td>0.09</td>\n",
       "      <td>0.135</td>\n",
       "      <td>0.125</td>\n",
       "      <td>0.08</td>\n",
       "    </tr>\n",
       "    <tr>\n",
       "      <th>Wholeweight</th>\n",
       "      <td>0.514</td>\n",
       "      <td>0.2255</td>\n",
       "      <td>0.677</td>\n",
       "      <td>0.516</td>\n",
       "      <td>0.205</td>\n",
       "    </tr>\n",
       "    <tr>\n",
       "      <th>Shuckedweight</th>\n",
       "      <td>0.2245</td>\n",
       "      <td>0.0995</td>\n",
       "      <td>0.2565</td>\n",
       "      <td>0.2155</td>\n",
       "      <td>0.0895</td>\n",
       "    </tr>\n",
       "    <tr>\n",
       "      <th>Visceraweight</th>\n",
       "      <td>0.101</td>\n",
       "      <td>0.0485</td>\n",
       "      <td>0.1415</td>\n",
       "      <td>0.114</td>\n",
       "      <td>0.0395</td>\n",
       "    </tr>\n",
       "    <tr>\n",
       "      <th>Shellweight</th>\n",
       "      <td>0.15</td>\n",
       "      <td>0.07</td>\n",
       "      <td>0.21</td>\n",
       "      <td>0.155</td>\n",
       "      <td>0.055</td>\n",
       "    </tr>\n",
       "    <tr>\n",
       "      <th>Rings</th>\n",
       "      <td>15</td>\n",
       "      <td>7</td>\n",
       "      <td>9</td>\n",
       "      <td>10</td>\n",
       "      <td>7</td>\n",
       "    </tr>\n",
       "  </tbody>\n",
       "</table>\n",
       "</div>"
      ],
      "text/plain": [
       "                    0       1       2       3       4\n",
       "Sex                 M       M       F       M       I\n",
       "Length          0.455    0.35    0.53    0.44    0.33\n",
       "Diameter        0.365   0.265    0.42   0.365   0.255\n",
       "Height          0.095    0.09   0.135   0.125    0.08\n",
       "Wholeweight     0.514  0.2255   0.677   0.516   0.205\n",
       "Shuckedweight  0.2245  0.0995  0.2565  0.2155  0.0895\n",
       "Visceraweight   0.101  0.0485  0.1415   0.114  0.0395\n",
       "Shellweight      0.15    0.07    0.21   0.155   0.055\n",
       "Rings              15       7       9      10       7"
      ]
     },
     "execution_count": 13,
     "metadata": {},
     "output_type": "execute_result"
    },
    {
     "data": {
      "text/plain": [
       "Index(['Sex', 'Length', 'Diameter', 'Height', 'Wholeweight', 'Shuckedweight',\n",
       "       'Visceraweight', 'Shellweight', 'Rings'],\n",
       "      dtype='object')"
      ]
     },
     "execution_count": 13,
     "metadata": {},
     "output_type": "execute_result"
    },
    {
     "data": {
      "text/html": [
       "<div>\n",
       "<style scoped>\n",
       "    .dataframe tbody tr th:only-of-type {\n",
       "        vertical-align: middle;\n",
       "    }\n",
       "\n",
       "    .dataframe tbody tr th {\n",
       "        vertical-align: top;\n",
       "    }\n",
       "\n",
       "    .dataframe thead th {\n",
       "        text-align: right;\n",
       "    }\n",
       "</style>\n",
       "<table border=\"1\" class=\"dataframe\">\n",
       "  <thead>\n",
       "    <tr style=\"text-align: right;\">\n",
       "      <th></th>\n",
       "      <th>Length</th>\n",
       "      <th>Diameter</th>\n",
       "      <th>Height</th>\n",
       "      <th>Wholeweight</th>\n",
       "      <th>Shuckedweight</th>\n",
       "      <th>Visceraweight</th>\n",
       "      <th>Shellweight</th>\n",
       "      <th>Rings</th>\n",
       "    </tr>\n",
       "  </thead>\n",
       "  <tbody>\n",
       "    <tr>\n",
       "      <th>count</th>\n",
       "      <td>4177.000000</td>\n",
       "      <td>4177.000000</td>\n",
       "      <td>4177.000000</td>\n",
       "      <td>4177.000000</td>\n",
       "      <td>4177.000000</td>\n",
       "      <td>4177.000000</td>\n",
       "      <td>4177.000000</td>\n",
       "      <td>4177.000000</td>\n",
       "    </tr>\n",
       "    <tr>\n",
       "      <th>mean</th>\n",
       "      <td>0.523992</td>\n",
       "      <td>0.407881</td>\n",
       "      <td>0.139516</td>\n",
       "      <td>0.828742</td>\n",
       "      <td>0.359367</td>\n",
       "      <td>0.180594</td>\n",
       "      <td>0.238831</td>\n",
       "      <td>9.933684</td>\n",
       "    </tr>\n",
       "    <tr>\n",
       "      <th>std</th>\n",
       "      <td>0.120093</td>\n",
       "      <td>0.099240</td>\n",
       "      <td>0.041827</td>\n",
       "      <td>0.490389</td>\n",
       "      <td>0.221963</td>\n",
       "      <td>0.109614</td>\n",
       "      <td>0.139203</td>\n",
       "      <td>3.224169</td>\n",
       "    </tr>\n",
       "    <tr>\n",
       "      <th>min</th>\n",
       "      <td>0.075000</td>\n",
       "      <td>0.055000</td>\n",
       "      <td>0.000000</td>\n",
       "      <td>0.002000</td>\n",
       "      <td>0.001000</td>\n",
       "      <td>0.000500</td>\n",
       "      <td>0.001500</td>\n",
       "      <td>1.000000</td>\n",
       "    </tr>\n",
       "    <tr>\n",
       "      <th>25%</th>\n",
       "      <td>0.450000</td>\n",
       "      <td>0.350000</td>\n",
       "      <td>0.115000</td>\n",
       "      <td>0.441500</td>\n",
       "      <td>0.186000</td>\n",
       "      <td>0.093500</td>\n",
       "      <td>0.130000</td>\n",
       "      <td>8.000000</td>\n",
       "    </tr>\n",
       "    <tr>\n",
       "      <th>50%</th>\n",
       "      <td>0.545000</td>\n",
       "      <td>0.425000</td>\n",
       "      <td>0.140000</td>\n",
       "      <td>0.799500</td>\n",
       "      <td>0.336000</td>\n",
       "      <td>0.171000</td>\n",
       "      <td>0.234000</td>\n",
       "      <td>9.000000</td>\n",
       "    </tr>\n",
       "    <tr>\n",
       "      <th>75%</th>\n",
       "      <td>0.615000</td>\n",
       "      <td>0.480000</td>\n",
       "      <td>0.165000</td>\n",
       "      <td>1.153000</td>\n",
       "      <td>0.502000</td>\n",
       "      <td>0.253000</td>\n",
       "      <td>0.329000</td>\n",
       "      <td>11.000000</td>\n",
       "    </tr>\n",
       "    <tr>\n",
       "      <th>max</th>\n",
       "      <td>0.815000</td>\n",
       "      <td>0.650000</td>\n",
       "      <td>1.130000</td>\n",
       "      <td>2.825500</td>\n",
       "      <td>1.488000</td>\n",
       "      <td>0.760000</td>\n",
       "      <td>1.005000</td>\n",
       "      <td>29.000000</td>\n",
       "    </tr>\n",
       "  </tbody>\n",
       "</table>\n",
       "</div>"
      ],
      "text/plain": [
       "            Length     Diameter       Height  Wholeweight  Shuckedweight  \\\n",
       "count  4177.000000  4177.000000  4177.000000  4177.000000    4177.000000   \n",
       "mean      0.523992     0.407881     0.139516     0.828742       0.359367   \n",
       "std       0.120093     0.099240     0.041827     0.490389       0.221963   \n",
       "min       0.075000     0.055000     0.000000     0.002000       0.001000   \n",
       "25%       0.450000     0.350000     0.115000     0.441500       0.186000   \n",
       "50%       0.545000     0.425000     0.140000     0.799500       0.336000   \n",
       "75%       0.615000     0.480000     0.165000     1.153000       0.502000   \n",
       "max       0.815000     0.650000     1.130000     2.825500       1.488000   \n",
       "\n",
       "       Visceraweight  Shellweight        Rings  \n",
       "count    4177.000000  4177.000000  4177.000000  \n",
       "mean        0.180594     0.238831     9.933684  \n",
       "std         0.109614     0.139203     3.224169  \n",
       "min         0.000500     0.001500     1.000000  \n",
       "25%         0.093500     0.130000     8.000000  \n",
       "50%         0.171000     0.234000     9.000000  \n",
       "75%         0.253000     0.329000    11.000000  \n",
       "max         0.760000     1.005000    29.000000  "
      ]
     },
     "execution_count": 13,
     "metadata": {},
     "output_type": "execute_result"
    }
   ],
   "source": [
    "#Exploring the dataset\n",
    "\n",
    "ab.shape\n",
    "ab.info()\n",
    "ab.head().T\n",
    "ab.columns\n",
    "ab.describe()"
   ]
  },
  {
   "cell_type": "code",
   "execution_count": 10,
   "metadata": {},
   "outputs": [
    {
     "data": {
      "text/plain": [
       "<matplotlib.axes._subplots.AxesSubplot at 0x109461160>"
      ]
     },
     "execution_count": 10,
     "metadata": {},
     "output_type": "execute_result"
    },
    {
     "data": {
      "text/plain": [
       "Text(0.5,1,'Missing values in the dataset')"
      ]
     },
     "execution_count": 10,
     "metadata": {},
     "output_type": "execute_result"
    },
    {
     "data": {
      "image/png": "[encoded data removed]",
      "text/plain": [
       "<Figure size 432x288 with 1 Axes>"
      ]
     },
     "metadata": {},
     "output_type": "display_data"
    }
   ],
   "source": [
    "#Checking for Missing values\n",
    "sns.heatmap(ab.isnull(),cbar=False,cmap='viridis',yticklabels=False)\n",
    "plt.title('Missing values in the dataset')"
   ]
  },
  {
   "cell_type": "markdown",
   "metadata": {},
   "source": [
    "There are no null values in data"
   ]
  },
  {
   "cell_type": "code",
   "execution_count": 28,
   "metadata": {
    "scrolled": true
   },
   "outputs": [
    {
     "data": {
      "text/plain": [
       "array([[<matplotlib.axes._subplots.AxesSubplot object at 0x1a1623c668>,\n",
       "        <matplotlib.axes._subplots.AxesSubplot object at 0x1a16262400>,\n",
       "        <matplotlib.axes._subplots.AxesSubplot object at 0x1a16487a90>],\n",
       "       [<matplotlib.axes._subplots.AxesSubplot object at 0x1a164b9160>,\n",
       "        <matplotlib.axes._subplots.AxesSubplot object at 0x1a164e07f0>,\n",
       "        <matplotlib.axes._subplots.AxesSubplot object at 0x1a164e0828>],\n",
       "       [<matplotlib.axes._subplots.AxesSubplot object at 0x1a16530e80>,\n",
       "        <matplotlib.axes._subplots.AxesSubplot object at 0x1a1655e550>,\n",
       "        <matplotlib.axes._subplots.AxesSubplot object at 0x1a16587be0>]],\n",
       "      dtype=object)"
      ]
     },
     "execution_count": 28,
     "metadata": {},
     "output_type": "execute_result"
    },
    {
     "data": {
      "image/png": "[encoded data removed]",
      "text/plain": [
       "<Figure size 864x432 with 9 Axes>"
      ]
     },
     "metadata": {},
     "output_type": "display_data"
    }
   ],
   "source": [
    "# looking over how different features are distributed in data\n",
    "ab.hist(edgecolor='black',grid=False,xlabelsize=8,ylabelsize=8)\n",
    "fig=plt.gcf()\n",
    "fig.set_size_inches(12,6)"
   ]
  },
  {
   "cell_type": "code",
   "execution_count": 26,
   "metadata": {},
   "outputs": [],
   "source": [
    "# converting categorical string values into nummeriacal\n",
    "ab['Sex'].replace(to_replace='M', value = 0, inplace=True)\n",
    "ab['Sex'].replace(to_replace='F', value = 1, inplace=True)\n",
    "ab['Sex'].replace(to_replace='I', value = 2, inplace=True)"
   ]
  },
  {
   "cell_type": "code",
   "execution_count": 29,
   "metadata": {},
   "outputs": [],
   "source": [
    "##Separating the Independent and Dependent Variables\n",
    "X = ab.iloc[:, :-1].values\n",
    "y = ab.iloc[:, -1].values"
   ]
  },
  {
   "cell_type": "code",
   "execution_count": 37,
   "metadata": {},
   "outputs": [
    {
     "name": "stdout",
     "output_type": "stream",
     "text": [
      "(3341, 8) (3341,)\n",
      "(836, 8) (836,)\n"
     ]
    }
   ],
   "source": [
    "# Split into training and test set\n",
    "# 80% of the input for training and 20% for testing\n",
    "X_train, X_test, y_train, y_test = train_test_split(X,y,test_size = 0.20, random_state=20)\n",
    "print (X_train.shape, y_train.shape)\n",
    "print (X_test.shape, y_test.shape)"
   ]
  },
  {
   "cell_type": "markdown",
   "metadata": {},
   "source": [
    "### Linear Regression"
   ]
  },
  {
   "cell_type": "code",
   "execution_count": 31,
   "metadata": {},
   "outputs": [
    {
     "data": {
      "text/plain": [
       "LinearRegression(copy_X=True, fit_intercept=True, n_jobs=1, normalize=False)"
      ]
     },
     "execution_count": 31,
     "metadata": {},
     "output_type": "execute_result"
    }
   ],
   "source": [
    "lr = LinearRegression()\n",
    "lr.fit(X_train, y_train)"
   ]
  },
  {
   "cell_type": "markdown",
   "metadata": {},
   "source": [
    "Now, lets do 10 fold cross validation to check the accuracy of the model"
   ]
  },
  {
   "cell_type": "code",
   "execution_count": 88,
   "metadata": {},
   "outputs": [
    {
     "data": {
      "text/plain": [
       "0.5218473506934793"
      ]
     },
     "execution_count": 88,
     "metadata": {},
     "output_type": "execute_result"
    }
   ],
   "source": [
    "mean_cross_val_score_lin = np.mean(cross_val_score(lr, X_train, y_train, cv=10))\n",
    "mean_cross_val_score_lin"
   ]
  },
  {
   "cell_type": "markdown",
   "metadata": {},
   "source": [
    "Mean cross validation score with Linear regression is 0.522, lests check the score on test set"
   ]
  },
  {
   "cell_type": "code",
   "execution_count": 53,
   "metadata": {},
   "outputs": [
    {
     "data": {
      "text/plain": [
       "0.5047798682876703"
      ]
     },
     "execution_count": 53,
     "metadata": {},
     "output_type": "execute_result"
    }
   ],
   "source": [
    "test_score_lin = lr.score(X_test, y_test)\n",
    "test_score_lin"
   ]
  },
  {
   "cell_type": "markdown",
   "metadata": {},
   "source": [
    "The test score is even less 0.504, \n",
    "Now lets try and fit polynomial regression."
   ]
  },
  {
   "cell_type": "markdown",
   "metadata": {},
   "source": [
    "### Polynomial Regression"
   ]
  },
  {
   "cell_type": "code",
   "execution_count": 74,
   "metadata": {},
   "outputs": [],
   "source": [
    "poly = PolynomialFeatures(degree=3)\n",
    "poly_X_train = poly.fit_transform(X_train)\n",
    "poly_X_test = poly.fit_transform(X_test)"
   ]
  },
  {
   "cell_type": "code",
   "execution_count": 75,
   "metadata": {},
   "outputs": [
    {
     "data": {
      "text/plain": [
       "LinearRegression(copy_X=True, fit_intercept=True, n_jobs=1, normalize=False)"
      ]
     },
     "execution_count": 75,
     "metadata": {},
     "output_type": "execute_result"
    }
   ],
   "source": [
    "poly_reg = LinearRegression()\n",
    "poly_reg.fit(poly_X_train, y_train)"
   ]
  },
  {
   "cell_type": "markdown",
   "metadata": {},
   "source": [
    "Now, lets do 10 fold cross validation to check the accuracy of the model"
   ]
  },
  {
   "cell_type": "code",
   "execution_count": 76,
   "metadata": {},
   "outputs": [
    {
     "data": {
      "text/plain": [
       "0.43832267895305704"
      ]
     },
     "execution_count": 76,
     "metadata": {},
     "output_type": "execute_result"
    }
   ],
   "source": [
    "mean_cross_val_score_poly = np.mean(cross_val_score(poly_reg, poly_X_train,y_train,cv=10))\n",
    "mean_cross_val_score_poly"
   ]
  },
  {
   "cell_type": "markdown",
   "metadata": {},
   "source": [
    "Mean cross validation score with Polynomial regression is 0.438, lests check the score on test set"
   ]
  },
  {
   "cell_type": "code",
   "execution_count": 57,
   "metadata": {},
   "outputs": [
    {
     "data": {
      "text/plain": [
       "0.5195843575726615"
      ]
     },
     "execution_count": 57,
     "metadata": {},
     "output_type": "execute_result"
    }
   ],
   "source": [
    "test_score_poly = poly_reg.score(poly_X_test,y_test)\n",
    "test_score_poly"
   ]
  },
  {
   "cell_type": "markdown",
   "metadata": {},
   "source": [
    "The test score is increased bit 0.519, Now lets cross validation to find best degree"
   ]
  },
  {
   "cell_type": "code",
   "execution_count": 64,
   "metadata": {},
   "outputs": [
    {
     "name": "stderr",
     "output_type": "stream",
     "text": [
      "100%|██████████| 10/10 [12:37<00:00, 157.81s/it]\n"
     ]
    },
    {
     "data": {
      "text/plain": [
       "(0.5218473506934793, 1)"
      ]
     },
     "execution_count": 64,
     "metadata": {},
     "output_type": "execute_result"
    }
   ],
   "source": [
    "#performing cross validation to find best degree\n",
    "max_score = 0\n",
    "for degree in tqdm(np.arange(10)):\n",
    "    poly = PolynomialFeatures(degree=degree)\n",
    "    poly_X_train = poly.fit_transform(X_train)\n",
    "    mean_score = np.mean(cross_val_score(poly_reg, poly_X_train,y_train,cv=10))\n",
    "    if mean_score > max_score:\n",
    "        max_score = mean_score\n",
    "        max_degree = degree\n",
    "max_score, max_degree"
   ]
  },
  {
   "cell_type": "code",
   "execution_count": 89,
   "metadata": {},
   "outputs": [
    {
     "data": {
      "text/plain": [
       "0.5218473506934793"
      ]
     },
     "execution_count": 89,
     "metadata": {},
     "output_type": "execute_result"
    }
   ],
   "source": [
    "mean_cross_val_score_poly_tune = max_score\n",
    "mean_cross_val_score_poly_tune"
   ]
  },
  {
   "cell_type": "markdown",
   "metadata": {},
   "source": [
    "Best degree is 1 and score is 0.521"
   ]
  },
  {
   "cell_type": "markdown",
   "metadata": {},
   "source": [
    "### Random Forest Regression"
   ]
  },
  {
   "cell_type": "code",
   "execution_count": 112,
   "metadata": {},
   "outputs": [
    {
     "data": {
      "text/plain": [
       "RandomForestRegressor(bootstrap=True, criterion='mse', max_depth=None,\n",
       "           max_features='auto', max_leaf_nodes=None,\n",
       "           min_impurity_decrease=0.0, min_impurity_split=None,\n",
       "           min_samples_leaf=1, min_samples_split=2,\n",
       "           min_weight_fraction_leaf=0.0, n_estimators=10, n_jobs=1,\n",
       "           oob_score=False, random_state=20, verbose=0, warm_start=False)"
      ]
     },
     "execution_count": 112,
     "metadata": {},
     "output_type": "execute_result"
    },
    {
     "name": "stdout",
     "output_type": "stream",
     "text": [
      "Model Accuracy: 50.49702597218659%\n"
     ]
    }
   ],
   "source": [
    "# RFR model without hyperparameter tuning\n",
    "rf = RandomForestRegressor(random_state=20)\n",
    "rf.fit(X_train, y_train)\n",
    "rf_b_hpt=rf.score(X_test,y_test)\n",
    "\n",
    "print('Model Accuracy: {}%'.format(rf_b_hpt * 100))"
   ]
  },
  {
   "cell_type": "code",
   "execution_count": 113,
   "metadata": {},
   "outputs": [
    {
     "data": {
      "text/plain": [
       "GridSearchCV(cv=5, error_score='raise',\n",
       "       estimator=RandomForestRegressor(bootstrap=True, criterion='mse', max_depth=None,\n",
       "           max_features='auto', max_leaf_nodes=None,\n",
       "           min_impurity_decrease=0.0, min_impurity_split=None,\n",
       "           min_samples_leaf=1, min_samples_split=2,\n",
       "           min_weight_fraction_leaf=0.0, n_estimators=10, n_jobs=1,\n",
       "           oob_score=False, random_state=20, verbose=0, warm_start=False),\n",
       "       fit_params=None, iid=True, n_jobs=1,\n",
       "       param_grid={'n_estimators': [5, 10, 15], 'criterion': ['mae', 'mse'], 'max_depth': array([1, 2, 3, 4, 5, 6, 7, 8, 9]), 'oob_score': ['True', 'False']},\n",
       "       pre_dispatch='2*n_jobs', refit=True, return_train_score='warn',\n",
       "       scoring=None, verbose=0)"
      ]
     },
     "execution_count": 113,
     "metadata": {},
     "output_type": "execute_result"
    },
    {
     "name": "stdout",
     "output_type": "stream",
     "text": [
      "Best Score: 46.44595467518877%\n",
      "Best Parameters: {'criterion': 'mae', 'max_depth': 8, 'n_estimators': 15, 'oob_score': 'True'}\n"
     ]
    }
   ],
   "source": [
    "# RFR with grid search (for hyperparameter tuning)\n",
    "prmts = {\n",
    "            'n_estimators':[5,10,15],\n",
    "            'criterion':['mae','mse'],\n",
    "            'max_depth':np.arange(1,10),\n",
    "            'oob_score':['True','False'],       \n",
    "        }\n",
    "\n",
    "rfgs = GridSearchCV(rf,prmts,cv=5)\n",
    "rfgs.fit(X,y)\n",
    "print('Best Score: {}%'.format(rfgs.best_score_ * 100))\n",
    "print('Best Parameters: {}'.format(rfgs.best_params_))"
   ]
  },
  {
   "cell_type": "code",
   "execution_count": 115,
   "metadata": {},
   "outputs": [
    {
     "data": {
      "text/plain": [
       "RandomForestRegressor(bootstrap=True, criterion='mae', max_depth=8,\n",
       "           max_features='auto', max_leaf_nodes=None,\n",
       "           min_impurity_decrease=0.0, min_impurity_split=None,\n",
       "           min_samples_leaf=1, min_samples_split=2,\n",
       "           min_weight_fraction_leaf=0.0, n_estimators=15, n_jobs=1,\n",
       "           oob_score='True', random_state=None, verbose=0,\n",
       "           warm_start=False)"
      ]
     },
     "execution_count": 115,
     "metadata": {},
     "output_type": "execute_result"
    },
    {
     "name": "stdout",
     "output_type": "stream",
     "text": [
      "Model Accuracy: 52.134466378200386%\n"
     ]
    }
   ],
   "source": [
    "#RFR with best parameters after hyperparameter tuning\n",
    "rfbst = RandomForestRegressor(criterion='mae',max_depth= 8,n_estimators=15,oob_score= 'True' )\n",
    "rfbst.fit(X_train,y_train)\n",
    "rf_bst_score=rfbst.score(X_test,y_test)\n",
    "print('Model Accuracy: {}%'.format(rf_bst_score * 100))"
   ]
  },
  {
   "cell_type": "markdown",
   "metadata": {},
   "source": [
    "### Support Vector Regression"
   ]
  },
  {
   "cell_type": "code",
   "execution_count": 102,
   "metadata": {},
   "outputs": [],
   "source": [
    "#As we know that Support vector regression is distanse based metric, feature scaling is necessary for it\n",
    "scale_X = StandardScaler()\n",
    "scale_y = StandardScaler()\n",
    "X_scale = scale_X.fit_transform(X)\n",
    "y_scale= scale_y.fit_transform(y.reshape(-1, 1))"
   ]
  },
  {
   "cell_type": "code",
   "execution_count": 103,
   "metadata": {},
   "outputs": [],
   "source": [
    "#Sepearating train and test\n",
    "X_train_sc, X_test_sc, y_train_sc, y_test_sc = train_test_split(X_scale,y_scale,test_size = 0.20, random_state=20)"
   ]
  },
  {
   "cell_type": "code",
   "execution_count": 118,
   "metadata": {},
   "outputs": [
    {
     "data": {
      "text/plain": [
       "SVR(C=1.0, cache_size=200, coef0=0.0, degree=3, epsilon=0.1, gamma='auto',\n",
       "  kernel='rbf', max_iter=-1, shrinking=True, tol=0.001, verbose=False)"
      ]
     },
     "execution_count": 118,
     "metadata": {},
     "output_type": "execute_result"
    },
    {
     "name": "stdout",
     "output_type": "stream",
     "text": [
      "Model Accuracy: 54.28336387834721%\n"
     ]
    }
   ],
   "source": [
    "# SVR model without hyperparameter tuning\n",
    "svr = SVR()\n",
    "svr.fit(X_train_sc,y_train_sc)\n",
    "svr_b_hpt=svr.score(X_test_sc,y_test_sc)\n",
    "\n",
    "print('Model Accuracy: {}%'.format(svr_b_hpt * 100))"
   ]
  },
  {
   "cell_type": "code",
   "execution_count": 116,
   "metadata": {},
   "outputs": [
    {
     "data": {
      "text/plain": [
       "GridSearchCV(cv=5, error_score='raise',\n",
       "       estimator=SVR(C=1.0, cache_size=200, coef0=0.0, degree=3, epsilon=0.1, gamma='auto',\n",
       "  kernel='rbf', max_iter=-1, shrinking=True, tol=0.001, verbose=False),\n",
       "       fit_params=None, iid=True, n_jobs=1,\n",
       "       param_grid={'C': [1, 10, 50], 'kernel': ['linear', 'poly', 'rbf'], 'degree': [1, 2, 3], 'gamma': [0.0001, 0.001, 0.01], 'tol': [0.01, 0.1, 1]},\n",
       "       pre_dispatch='2*n_jobs', refit=True, return_train_score='warn',\n",
       "       scoring=None, verbose=0)"
      ]
     },
     "execution_count": 116,
     "metadata": {},
     "output_type": "execute_result"
    },
    {
     "name": "stdout",
     "output_type": "stream",
     "text": [
      "Best Score: 50.11693509312812%\n",
      "Best Parameters: {'C': 50, 'degree': 1, 'gamma': 0.01, 'kernel': 'rbf', 'tol': 0.01}\n"
     ]
    }
   ],
   "source": [
    "# SVR with grid search (for hyperparameter tuning)\n",
    "prmts = {\n",
    "            'C':[1,10,50],\n",
    "            'kernel':['linear', 'poly', 'rbf'],\n",
    "            'degree':[1,2,3],\n",
    "            'gamma':[0.0001,0.001,0.01],\n",
    "            'tol':[0.01,0.1,1]        \n",
    "        }\n",
    "\n",
    "svrgs = GridSearchCV(svr,prmts,cv=5)\n",
    "svrgs.fit(X_scale,y_scale)\n",
    "print('Best Score: {}%'.format(svrgs.best_score_ * 100))\n",
    "print('Best Parameters: {}'.format(svrgs.best_params_))"
   ]
  },
  {
   "cell_type": "code",
   "execution_count": 117,
   "metadata": {},
   "outputs": [
    {
     "data": {
      "text/plain": [
       "SVR(C=50, cache_size=200, coef0=0.0, degree=1, epsilon=0.1, gamma=0.01,\n",
       "  kernel='rbf', max_iter=-1, shrinking=True, tol=0.01, verbose=False)"
      ]
     },
     "execution_count": 117,
     "metadata": {},
     "output_type": "execute_result"
    },
    {
     "name": "stdout",
     "output_type": "stream",
     "text": [
      "Model Accuracy: 53.93707514733068%\n"
     ]
    }
   ],
   "source": [
    "#SVR with best parameters after hyperparameter tuning\n",
    "svrbst = SVR(C = 50, degree= 1, gamma = 0.01,kernel='rbf',tol= 0.01 )\n",
    "svrbst.fit(X_train_sc,y_train_sc)\n",
    "svr_bst_score=svrbst.score(X_test_sc,y_test_sc)\n",
    "\n",
    "print('Model Accuracy: {}%'.format(svr_bst_score * 100))"
   ]
  },
  {
   "cell_type": "markdown",
   "metadata": {},
   "source": [
    "## Conclusion"
   ]
  },
  {
   "cell_type": "markdown",
   "metadata": {},
   "source": [
    "Among all the models we can compare and see that SVR model without hyperparameter tuning has highest score i.e.54.28 although overall scoring of all the models are not good so,its need further feature addition, such as weather patterns and location (hence food availability) features may be required to improve the accuracy of the model."
   ]
  },
  {
   "cell_type": "code",
   "execution_count": null,
   "metadata": {},
   "outputs": [],
   "source": []
  }
 ],
 "metadata": {
  "kernelspec": {
   "display_name": "Python 3",
   "language": "python",
   "name": "python3"
  },
  "language_info": {
   "codemirror_mode": {
    "name": "ipython",
    "version": 3
   },
   "file_extension": ".py",
   "mimetype": "text/x-python",
   "name": "python",
   "nbconvert_exporter": "python",
   "pygments_lexer": "ipython3",
   "version": "3.6.5"
  }
 },
 "nbformat": 4,
 "nbformat_minor": 2
}
